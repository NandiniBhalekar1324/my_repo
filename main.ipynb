#Univariate Graphical EDA: Histograms, Boxplots

import pandas as pd
import matplotlib.pyplot as plt

# Define DataFrame
df = pd.DataFrame({
    'Age': [23, 45, 28, 50, 40],
    'Salary': [50000, 60000, 55000, 70000, 65000]
})

# Plot
df['Age'].hist(bins=5)
plt.title('Age Histogram')
plt.show()

df.boxplot(column='Salary')
plt.title('Salary Boxplot')
plt.show()

